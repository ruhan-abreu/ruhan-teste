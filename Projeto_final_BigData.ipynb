{
  "nbformat": 4,
  "nbformat_minor": 0,
  "metadata": {
    "colab": {
      "provenance": [],
      "toc_visible": true,
      "authorship_tag": "ABX9TyN5yiXzh7VYC2ZpRsZFewdl",
      "include_colab_link": true
    },
    "kernelspec": {
      "name": "python3",
      "display_name": "Python 3"
    },
    "language_info": {
      "name": "python"
    }
  },
  "cells": [
    {
      "cell_type": "markdown",
      "metadata": {
        "id": "view-in-github",
        "colab_type": "text"
      },
      "source": [
        "<a href=\"https://colab.research.google.com/github/ruhan-abreu/ruhan-teste/blob/master/Projeto_final_BigData.ipynb\" target=\"_parent\"><img src=\"https://colab.research.google.com/assets/colab-badge.svg\" alt=\"Open In Colab\"/></a>"
      ]
    },
    {
      "cell_type": "code",
      "execution_count": 119,
      "metadata": {
        "id": "FrRMfsL_eXWg"
      },
      "outputs": [],
      "source": [
        "#Projeto Parte 2\n",
        "\n",
        "import pandas as pd\n",
        "\n",
        "\n",
        "df = pd.read_csv('https://raw.githubusercontent.com/ruhan-abreu/ruhan-teste/master/cursos-prouni.csv', encoding='utf-8', sep=',')\n",
        "#df\n",
        "\n",
        "#a. Efetuar a limpeza das colunas de notas: onde tiver NaN (Not a Number), substituir por 0,0\n",
        "\n",
        "#df ['nota_integral_ampla'] = df ['nota_integral_ampla']. fillna (0)\n",
        "#df ['nota_integral_cotas'] = df ['nota_integral_cotas']. fillna (0)\n",
        "#df ['nota_parcial_ampla'] = df ['nota_parcial_ampla']. fillna (0)\n",
        "#df ['nota_parcial_cotas'] = df ['nota_parcial_cotas']. fillna (0)\n",
        "#df\n",
        "\n",
        "#b. Agrupe os dados pelo grau (Bacharelado, Licenciatura, etc)\n",
        "\n",
        "#grau = df.groupby('grau')\n",
        "#grau.describe()\n",
        "\n",
        "#c. Agrupe os dados pelos cursos de Matemática, Medicina e Pedagogia.\n",
        "\n",
        "#cursos  = df.groupby('curso_busca')\n",
        "#cursos.get_group('Matemática').head(10)\n",
        "#cursos.get_group('Medicina').head(10)\n",
        "#cursos.get_group('Pedagogia').head(10)\n",
        "\n",
        "#d. Agrupe os dados por Estado e obtenha a média de notas de corte por Estado.\n",
        "\n",
        "#estado = df.groupby('uf_busca')\n",
        "#estado.describe()\n",
        "#estado[['nota_parcial_ampla','nota_parcial_cotas']].mean().head(30)\n",
        "\n",
        "#e. Agrupe os dados pelos cursos Tecnológicos.\n",
        "\n",
        "#grau = df.groupby('grau')\n",
        "#grau.get_group('Tecnológico')\n",
        "\n",
        "#f. Elimine a coluna “cidade_filtro” do dataframe\n",
        "\n",
        "#excluir = df.drop('cidade_filtro', axis= 1)\n",
        "#excluir\n",
        "\n",
        "#g. Apresente a média das mensalidades dos cursos de Medicina.\n",
        "\n",
        "#media_mensal = df.groupby('nome')\n",
        "#media_mensal = pd.DataFrame(media_mensal['mensalidade'].mean().round(2))\n",
        "#media_mensal\n",
        "\n",
        "\n",
        "\n"
      ]
    },
    {
      "cell_type": "code",
      "source": [
        "#Projeto Parte 1\n",
        "\n",
        "import pandas as pd\n",
        "df = pd.read_csv(\"world_alcohol.csv\", encoding = 'latin-1', sep=',')\n",
        "df.columns=['Ano', 'Regiao', 'País', 'Tipo_Bebida', 'valor']\n",
        "#df\n",
        "#a. Agrupe os dados por tipo de bebidas;\n",
        "#bebidas.describe()\n",
        "\n",
        "#regiao_ano = df.groupby(['Ano', 'Regiao'])\n",
        "#bebidas = df.groupby('Tipo_Bebida')\n",
        "#b. Agrupe os dados por Região e por Ano;\n",
        "#regiao_ano.describe()\n",
        "#c. Seção de Contagens: Contar a ocorrência de Regiões, de Países e a soma da coluna de valores por Bebida.\n",
        "#cont_regiao = df['Regiao'].value_counts()\n",
        "#cont_regiao\n",
        "#cont_pais = df['País'].value_counts()\n",
        "#cont_pais\n",
        "#soma = df.groupby('Tipo_Bebida').agg({'valor':'sum'})\n",
        "#soma\n",
        "\n",
        "#df['valor'].mean()\n",
        "#df['valor'].median()\n",
        "#df['valor'].mode()\n",
        "#df['valor'].describe()\n",
        "#agregação3 = df.groupby('Tipo_Bebida').agg({'valor':'sum'})\n",
        "#agregação3.plot.bar()\n",
        "#d. Realize análises estatísticas da coluna dos valores: Média, Moda, Mediana, Estatística Descritiva e\n",
        "#Gráfico de comparação dos valores agrupados por tipo de bebida.\n",
        "\n",
        "#e. Mostre resultados de acordo com alguns critérios:\n",
        "#i. Mostrar a coluna de bebidas do ano de 1985.\n",
        "#df['Ano'].unique()\n",
        "#result = df.groupby('Ano')\n",
        "#result.get_group(1985)['Tipo_Bebida']\n",
        "#ii. Mostrar a coluna de Região com valores acima de 4.\n",
        "#regiao = df.loc[df['valor'] > 4]\n",
        "#print(regiao[['Regiao', 'valor']])"
      ],
      "metadata": {
        "id": "lw-EY2oK9Z7d"
      },
      "execution_count": null,
      "outputs": []
    }
  ]
}