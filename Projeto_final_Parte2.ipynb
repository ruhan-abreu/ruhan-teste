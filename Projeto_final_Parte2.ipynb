{
  "nbformat": 4,
  "nbformat_minor": 0,
  "metadata": {
    "colab": {
      "provenance": [],
      "toc_visible": true,
      "authorship_tag": "ABX9TyNcLq1DpB1BFDKbXWmYnQ+u",
      "include_colab_link": true
    },
    "kernelspec": {
      "name": "python3",
      "display_name": "Python 3"
    },
    "language_info": {
      "name": "python"
    }
  },
  "cells": [
    {
      "cell_type": "markdown",
      "metadata": {
        "id": "view-in-github",
        "colab_type": "text"
      },
      "source": [
        "<a href=\"https://colab.research.google.com/github/ruhan-abreu/ruhan-teste/blob/master/Projeto_final_Parte2.ipynb\" target=\"_parent\"><img src=\"https://colab.research.google.com/assets/colab-badge.svg\" alt=\"Open In Colab\"/></a>"
      ]
    },
    {
      "cell_type": "code",
      "execution_count": 119,
      "metadata": {
        "id": "FrRMfsL_eXWg"
      },
      "outputs": [],
      "source": [
        "import pandas as pd\n",
        "\n",
        "\n",
        "df = pd.read_csv('https://raw.githubusercontent.com/ruhan-abreu/ruhan-teste/master/cursos-prouni.csv', encoding='utf-8', sep=',')\n",
        "#df\n",
        "\n",
        "#a. Efetuar a limpeza das colunas de notas: onde tiver NaN (Not a Number), substituir por 0,0\n",
        "\n",
        "#df ['nota_integral_ampla'] = df ['nota_integral_ampla']. fillna (0)\n",
        "#df ['nota_integral_cotas'] = df ['nota_integral_cotas']. fillna (0)\n",
        "#df ['nota_parcial_ampla'] = df ['nota_parcial_ampla']. fillna (0)\n",
        "#df ['nota_parcial_cotas'] = df ['nota_parcial_cotas']. fillna (0)\n",
        "#df\n",
        "\n",
        "#b. Agrupe os dados pelo grau (Bacharelado, Licenciatura, etc)\n",
        "\n",
        "#grau = df.groupby('grau')\n",
        "#grau.describe()\n",
        "\n",
        "#c. Agrupe os dados pelos cursos de Matemática, Medicina e Pedagogia.\n",
        "\n",
        "#cursos  = df.groupby('curso_busca')\n",
        "#cursos.get_group('Matemática').head(10)\n",
        "#cursos.get_group('Medicina').head(10)\n",
        "#cursos.get_group('Pedagogia').head(10)\n",
        "\n",
        "#d. Agrupe os dados por Estado e obtenha a média de notas de corte por Estado.\n",
        "\n",
        "#estado = df.groupby('uf_busca')\n",
        "#estado.describe()\n",
        "#estado[['nota_parcial_ampla','nota_parcial_cotas']].mean().head(30)\n",
        "\n",
        "#e. Agrupe os dados pelos cursos Tecnológicos.\n",
        "\n",
        "#grau = df.groupby('grau')\n",
        "#grau.get_group('Tecnológico')\n",
        "\n",
        "#f. Elimine a coluna “cidade_filtro” do dataframe\n",
        "\n",
        "#excluir = df.drop('cidade_filtro', axis= 1)\n",
        "#excluir\n",
        "\n",
        "#g. Apresente a média das mensalidades dos cursos de Medicina.\n",
        "\n",
        "#media_mensal = df.groupby('nome')\n",
        "#media_mensal = pd.DataFrame(media_mensal['mensalidade'].mean().round(2))\n",
        "#media_mensal\n",
        "\n",
        "\n",
        "\n"
      ]
    }
  ]
}